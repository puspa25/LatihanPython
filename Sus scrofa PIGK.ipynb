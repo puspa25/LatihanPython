{
 "cells": [
  {
   "cell_type": "code",
   "execution_count": 1,
   "id": "3e5d65f5-374c-4ada-81c5-2ddb56021498",
   "metadata": {
    "collapsed": true,
    "jupyter": {
     "outputs_hidden": true
    },
    "tags": []
   },
   "outputs": [
    {
     "name": "stdout",
     "output_type": "stream",
     "text": [
      "{'Count': '15', 'RetMax': '15', 'RetStart': '0', 'IdList': ['73853893', '2177973611', '2177710939', '2076547992', '2048399207', '2047917297', '1985845393', '1817906648', '1780644247', '1707347127', '1154346165', '1207826611', '1208044899', '104295148', '62736390'], 'TranslationSet': [{'From': 'Sus scrofa', 'To': '\"Sus scrofa\"[Organism] OR Sus scrofa[All Fields]'}], 'TranslationStack': [{'Term': '\"Sus scrofa\"[Organism]', 'Field': 'Organism', 'Count': '3400314', 'Explode': 'Y'}, {'Term': 'Sus scrofa[All Fields]', 'Field': 'All Fields', 'Count': '3802758', 'Explode': 'N'}, 'OR', 'GROUP', {'Term': 'PIGK[All Fields]', 'Field': 'All Fields', 'Count': '1747', 'Explode': 'N'}, 'AND', 'GROUP'], 'QueryTranslation': '(\"Sus scrofa\"[Organism] OR Sus scrofa[All Fields]) AND PIGK[All Fields]'}\n"
     ]
    }
   ],
   "source": [
    "from Bio import Entrez \n",
    "Entrez.email = \"localuser@localhost.localdomain\" \n",
    "\n",
    "#creating handle\n",
    "handle = Entrez.esearch(db=\"nuccore\" , term=\"Sus scrofa PIGK\")\n",
    "record = Entrez.read(handle)\n",
    "print(record)\n",
    "handle.close()"
   ]
  },
  {
   "cell_type": "code",
   "execution_count": 2,
   "id": "f2afc5af-1526-4a5e-a295-9ac7b466dced",
   "metadata": {
    "collapsed": true,
    "jupyter": {
     "outputs_hidden": true
    },
    "tags": []
   },
   "outputs": [
    {
     "name": "stdout",
     "output_type": "stream",
     "text": [
      "LOCUS       NM_001032358            1468 bp    mRNA    linear   MAM 18-FEB-2022\n",
      "DEFINITION  Sus scrofa phosphatidylinositol glycan anchor biosynthesis class K\n",
      "            (PIGK), mRNA.\n",
      "ACCESSION   NM_001032358\n",
      "VERSION     NM_001032358.1\n",
      "KEYWORDS    RefSeq.\n",
      "SOURCE      Sus scrofa (pig)\n",
      "  ORGANISM  Sus scrofa\n",
      "            Eukaryota; Metazoa; Chordata; Craniata; Vertebrata; Euteleostomi;\n",
      "            Mammalia; Eutheria; Laurasiatheria; Artiodactyla; Suina; Suidae;\n",
      "            Sus.\n",
      "REFERENCE   1  (bases 1 to 1468)\n",
      "  AUTHORS   Uenishi H, Eguchi-Ogawa T, Shinkai H, Okumura N, Suzuki K, Toki D,\n",
      "            Hamasima N and Awata T.\n",
      "  TITLE     PEDE (Pig EST Data Explorer) has been expanded into Pig Expression\n",
      "            Data Explorer, including 10 147 porcine full-length cDNA sequences\n",
      "  JOURNAL   Nucleic Acids Res 35 (Database issue), D650-D653 (2007)\n",
      "   PUBMED   17145712\n",
      "REFERENCE   2  (bases 1 to 1468)\n",
      "  AUTHORS   Jorgensen FG, Hobolth A, Hornshoj H, Bendixen C, Fredholm M and\n",
      "            Schierup MH.\n",
      "  TITLE     Comparative analysis of protein coding sequences from human, mouse\n",
      "            and the domesticated pig\n",
      "  JOURNAL   BMC Biol 3, 2 (2005)\n",
      "   PUBMED   15679890\n",
      "  REMARK    Publication Status: Online-Only\n",
      "REFERENCE   3  (bases 1 to 1468)\n",
      "  AUTHORS   Uenishi H, Eguchi T, Suzuki K, Sawazaki T, Toki D, Shinkai H,\n",
      "            Okumura N, Hamasima N and Awata T.\n",
      "  TITLE     PEDE (Pig EST Data Explorer): construction of a database for ESTs\n",
      "            derived from porcine full-length cDNA libraries\n",
      "  JOURNAL   Nucleic Acids Res 32 (Database issue), D484-D488 (2004)\n",
      "   PUBMED   14681463\n",
      "COMMENT     PROVISIONAL REFSEQ: This record has not yet been subject to final\n",
      "            NCBI review. The reference sequence was derived from AY914076.1.\n",
      "            \n",
      "            ##Evidence-Data-START##\n",
      "            Transcript exon combination :: AY914076.1, SRR5275382.655828.1\n",
      "                                           [ECO:0000332]\n",
      "            RNAseq introns              :: single sample supports all introns\n",
      "                                           SAMEA103886111, SAMEA103886112\n",
      "                                           [ECO:0000348]\n",
      "            ##Evidence-Data-END##\n",
      "FEATURES             Location/Qualifiers\n",
      "     source          1..1468\n",
      "                     /organism=\"Sus scrofa\"\n",
      "                     /mol_type=\"mRNA\"\n",
      "                     /db_xref=\"taxon:9823\"\n",
      "                     /chromosome=\"6\"\n",
      "                     /map=\"6\"\n",
      "     gene            1..1468\n",
      "                     /gene=\"PIGK\"\n",
      "                     /note=\"phosphatidylinositol glycan anchor biosynthesis\n",
      "                     class K\"\n",
      "                     /db_xref=\"GeneID:606750\"\n",
      "                     /db_xref=\"VGNC:VGNC:98194\"\n",
      "     CDS             25..1212\n",
      "                     /gene=\"PIGK\"\n",
      "                     /EC_number=\"3.-.-.-\"\n",
      "                     /note=\"phosphatidylinositol glycan class K; GPI-anchor\n",
      "                     transamidase; PIG-K; GPI transamidase;\n",
      "                     phosphatidylinositol-glycan biosynthesis class K protein\"\n",
      "                     /codon_start=1\n",
      "                     /product=\"GPI-anchor transamidase precursor\"\n",
      "                     /protein_id=\"NP_001027529.1\"\n",
      "                     /db_xref=\"GeneID:606750\"\n",
      "                     /db_xref=\"VGNC:VGNC:98194\"\n",
      "                     /translation=\"MVGTWFLCRGFTTLAGLLLLPFGSLAASQIEDQAEQFFRSGHTN\n",
      "                     NWAVLVCTSRFWFNYRHVANTLSVYRSVKRLGIPDSHIVLMLADDMACNPRNPKPATV\n",
      "                     YSHKNMELNVYGDDVEVDYRSYVVTVENFLRVLTGRIPPSTPRSKRLLSDDRSNILIY\n",
      "                     MTGHGGNGFLKFQDSEEITNIELADAFEQMWQKRRYNELLFIIDTCQGASMYERFYSP\n",
      "                     NIMALASSQVGEDSLSHQPDPAIGVHLMDRYTFYVLEFLEEINPASQTNMNDLFQVCP\n",
      "                     KSLCVSTPGHRTDPFQRDPKHVLITDFFGSVRKVEITTETISLQPDSGIMKSSHEKAG\n",
      "                     MDEELMEPLKYAEQLPVAQIIHQKPKLKDWHPPGGFILGLWALIIMVFFKTYGIKHMK\n",
      "                     FIF\"\n",
      "     sig_peptide     25..102\n",
      "                     /gene=\"PIGK\"\n",
      "                     /inference=\"COORDINATES: ab initio prediction:SignalP:4.0\"\n",
      "     misc_feature    955..987\n",
      "                     /gene=\"PIGK\"\n",
      "                     /note=\"propagated from UniProtKB/Swiss-Prot (Q4KRV1.1);\n",
      "                     Region: Essential for GPI attachment.\n",
      "                     /evidence=ECO:0000250\"\n",
      "     misc_feature    1126..1188\n",
      "                     /gene=\"PIGK\"\n",
      "                     /note=\"propagated from UniProtKB/Swiss-Prot (Q4KRV1.1);\n",
      "                     transmembrane region\"\n",
      "ORIGIN      \n",
      "        1 cgcgggaggc tgaagccggt caatatggtc ggtacttggt ttctctgccg gggttttacc\n",
      "       61 accctggcag ggttgttgct cctgcccttc ggcagcttgg ccgctagtca gatcgaggat\n",
      "      121 caagcagaac agttctttag aagtggccat acaaacaatt gggcagtttt ggtgtgtaca\n",
      "      181 tcccggttct ggtttaatta tcggcatgtt gcaaatactc tttctgttta tagaagtgtc\n",
      "      241 aagaggctag gtattcctga cagtcacatc gttctgatgc ttgcagatga tatggcatgc\n",
      "      301 aaccctagaa atcctaaacc agctacagtt tatagtcaca agaatatgga actaaatgtg\n",
      "      361 tatggagatg atgtggaagt ggattataga agttatgtgg taactgtgga gaatttttta\n",
      "      421 cgtgtattaa ctgggaggat tccacctagt actcctcggt caaaacgtct tctttctgat\n",
      "      481 gataggagca atattcttat ttatatgaca ggacatggtg ggaatgggtt cttgaaattt\n",
      "      541 caagattctg aagaaattac caacatagaa cttgcagatg cttttgaaca aatgtggcag\n",
      "      601 aaaagacgct acaatgagct actgtttatt attgacactt gtcaaggagc atccatgtat\n",
      "      661 gagagatttt attctcctaa cataatggct ttagccagta gccaagtggg agaggattca\n",
      "      721 ctctcgcatc aacctgatcc tgcaattgga gtccatctta tggatagata cacattttat\n",
      "      781 gtcttagaat ttttggagga aattaatcca gccagtcaaa ctaatatgaa tgaccttttt\n",
      "      841 caggtgtgcc ccaaaagtct atgtgtgtct acccctggac atcgcactga tccttttcag\n",
      "      901 agggatccta aacatgtcct gataactgat ttctttggaa gtgtacggaa agtggaaatt\n",
      "      961 acaacagaga ctataagttt gcagccagat tcaggaatca tgaaaagcag ccatgagaaa\n",
      "     1021 gctggaatgg atgaggaact aatggaaccc ctgaaatatg ctgaacaact tcctgtagct\n",
      "     1081 cagataatac accagaaacc aaagctgaaa gattggcatc ctcctggagg atttattcta\n",
      "     1141 ggattgtggg cactcattat catggttttc ttcaaaacgt atggaatcaa gcacatgaaa\n",
      "     1201 ttcattttct agatgcaatg atgtatgaag aagactacat ggaagactac accgtggata\n",
      "     1261 aaagttgatg tcagtatatt tgacaaaata cattgctctt gtgtgacttt gtgaaaaata\n",
      "     1321 caagggaact aaatttgaat gaaccattga ttttataact taaagataat tgttagtgag\n",
      "     1381 agtgttaaat gctaaatatg tatccgtttt tcattttgtg tgttattaaa gtatttggcc\n",
      "     1441 aaaaaaaaaa aaaaaaaaaa aaaaaaaa\n",
      "//\n",
      "\n",
      "\n"
     ]
    }
   ],
   "source": [
    "from Bio import Entrez \n",
    "Entrez.email = \"localuser@localhost.localdomain\" \n",
    "\n",
    "#creating EFETCH handle\n",
    "efetch_handle = Entrez.efetch(db=\"nuccore\", id= \"73853893\", rettype=\"gb\",retmode=\"text\")\n",
    "gbrecord=efetch_handle.read()\n",
    "print(gbrecord)"
   ]
  },
  {
   "cell_type": "code",
   "execution_count": 3,
   "id": "814735de-41d7-4474-a968-230f78306a1c",
   "metadata": {
    "collapsed": true,
    "jupyter": {
     "outputs_hidden": true
    },
    "tags": []
   },
   "outputs": [
    {
     "name": "stdout",
     "output_type": "stream",
     "text": [
      ">NM_001032358.1 Sus scrofa phosphatidylinositol glycan anchor biosynthesis class K (PIGK), mRNA\n",
      "CGCGGGAGGCTGAAGCCGGTCAATATGGTCGGTACTTGGTTTCTCTGCCGGGGTTTTACCACCCTGGCAG\n",
      "GGTTGTTGCTCCTGCCCTTCGGCAGCTTGGCCGCTAGTCAGATCGAGGATCAAGCAGAACAGTTCTTTAG\n",
      "AAGTGGCCATACAAACAATTGGGCAGTTTTGGTGTGTACATCCCGGTTCTGGTTTAATTATCGGCATGTT\n",
      "GCAAATACTCTTTCTGTTTATAGAAGTGTCAAGAGGCTAGGTATTCCTGACAGTCACATCGTTCTGATGC\n",
      "TTGCAGATGATATGGCATGCAACCCTAGAAATCCTAAACCAGCTACAGTTTATAGTCACAAGAATATGGA\n",
      "ACTAAATGTGTATGGAGATGATGTGGAAGTGGATTATAGAAGTTATGTGGTAACTGTGGAGAATTTTTTA\n",
      "CGTGTATTAACTGGGAGGATTCCACCTAGTACTCCTCGGTCAAAACGTCTTCTTTCTGATGATAGGAGCA\n",
      "ATATTCTTATTTATATGACAGGACATGGTGGGAATGGGTTCTTGAAATTTCAAGATTCTGAAGAAATTAC\n",
      "CAACATAGAACTTGCAGATGCTTTTGAACAAATGTGGCAGAAAAGACGCTACAATGAGCTACTGTTTATT\n",
      "ATTGACACTTGTCAAGGAGCATCCATGTATGAGAGATTTTATTCTCCTAACATAATGGCTTTAGCCAGTA\n",
      "GCCAAGTGGGAGAGGATTCACTCTCGCATCAACCTGATCCTGCAATTGGAGTCCATCTTATGGATAGATA\n",
      "CACATTTTATGTCTTAGAATTTTTGGAGGAAATTAATCCAGCCAGTCAAACTAATATGAATGACCTTTTT\n",
      "CAGGTGTGCCCCAAAAGTCTATGTGTGTCTACCCCTGGACATCGCACTGATCCTTTTCAGAGGGATCCTA\n",
      "AACATGTCCTGATAACTGATTTCTTTGGAAGTGTACGGAAAGTGGAAATTACAACAGAGACTATAAGTTT\n",
      "GCAGCCAGATTCAGGAATCATGAAAAGCAGCCATGAGAAAGCTGGAATGGATGAGGAACTAATGGAACCC\n",
      "CTGAAATATGCTGAACAACTTCCTGTAGCTCAGATAATACACCAGAAACCAAAGCTGAAAGATTGGCATC\n",
      "CTCCTGGAGGATTTATTCTAGGATTGTGGGCACTCATTATCATGGTTTTCTTCAAAACGTATGGAATCAA\n",
      "GCACATGAAATTCATTTTCTAGATGCAATGATGTATGAAGAAGACTACATGGAAGACTACACCGTGGATA\n",
      "AAAGTTGATGTCAGTATATTTGACAAAATACATTGCTCTTGTGTGACTTTGTGAAAAATACAAGGGAACT\n",
      "AAATTTGAATGAACCATTGATTTTATAACTTAAAGATAATTGTTAGTGAGAGTGTTAAATGCTAAATATG\n",
      "TATCCGTTTTTCATTTTGTGTGTTATTAAAGTATTTGGCCAAAAAAAAAAAAAAAAAAAAAAAAAAAA\n",
      "\n",
      "\n"
     ]
    }
   ],
   "source": [
    "from Bio import Entrez \n",
    "Entrez.email = \"localuser@localhost.localdomain\" \n",
    "\n",
    "#creating EFETCH handle\n",
    "efetch_handle = Entrez.efetch(db=\"nuccore\", id= \"73853893\", rettype=\"fasta\",retmode=\"text\")\n",
    "gbrecord=efetch_handle.read()\n",
    "print(gbrecord)"
   ]
  },
  {
   "cell_type": "code",
   "execution_count": 4,
   "id": "8f9fccd0-c9cb-4ede-90db-ddce88f99f9b",
   "metadata": {},
   "outputs": [
    {
     "name": "stdout",
     "output_type": "stream",
     "text": [
      "FASTA Download\n"
     ]
    }
   ],
   "source": [
    "import os\n",
    "#creating EFetch handle\n",
    "filename = \"Sus scrofa PIGK.fasta\"\n",
    "\n",
    "#creating Efetch handle\n",
    "if not os.path.isfile(filename):\n",
    "    #Downloading file\n",
    "    efetch_handle = Entrez.efetch(db=\"nuccore\" , id=\"73853893\" , rettype= \"fasta\", retmode= \"text\")\n",
    "    output_file_handle = open(filename, \"w\")\n",
    "    output_file_handle.write(efetch_handle.read())\n",
    "    output_file_handle.close()\n",
    "    efetch_handle.close()\n",
    "    print(\"FASTA Download\")"
   ]
  },
  {
   "cell_type": "code",
   "execution_count": 5,
   "id": "c117b226-bacb-4008-abff-a458ce04254d",
   "metadata": {},
   "outputs": [
    {
     "name": "stdout",
     "output_type": "stream",
     "text": [
      "GB Downloaded\n"
     ]
    }
   ],
   "source": [
    "#creating EFetch handle\n",
    "filename = \"Sus scrofa PIGK.gbk\"\n",
    "\n",
    "#creating Efetch handle\n",
    "if not os.path.isfile(filename):\n",
    "    #Downloading file\n",
    "    efetch_handle = Entrez.efetch(db=\"nuccore\" , id=\"73853893\" , rettype= \"gb\", retmode= \"text\")\n",
    "    output_file_handle = open(filename, \"w\")\n",
    "    output_file_handle.write(efetch_handle.read())\n",
    "    output_file_handle.close()\n",
    "    efetch_handle.close()\n",
    "    print(\"GB Downloaded\")"
   ]
  },
  {
   "cell_type": "code",
   "execution_count": 6,
   "id": "501b81ad-6ebc-48e1-b1c7-c8e82227b605",
   "metadata": {},
   "outputs": [
    {
     "name": "stdout",
     "output_type": "stream",
     "text": [
      ">PIGK|Sus scrofa phosphatidylinositol glycan anchor biosynthesis class K (PIGK), mRNA\n",
      "GGAGGATTTATTCTAGGATTGTGGGCACTCATTATCATGGTTTTCTTCAAAACGTATGGAATC\n"
     ]
    }
   ],
   "source": [
    "from Bio import SeqIO\n",
    "\n",
    "GoI = \"PIGK\"\n",
    "for genome in SeqIO.parse(\"Sus scrofa PIGK.gbk\",\"genbank\"):\n",
    "    for gene in genome.features:\n",
    "        if gene.type != \"CDS\":\n",
    "            continue\n",
    "        if \"gene\" not in gene.qualifiers[\"gene\"][0]:\n",
    "                continue\n",
    "        if GoI not in gene.qualifiers[\"gene\"][0]:\n",
    "                    continue\n",
    "    gene_seq = gene.extract(genome.seq)\n",
    "                    \n",
    "GoI_fasta = \">%s|%s\\n%s\" % (GoI, genome.description, gene_seq)\n",
    "print(GoI_fasta)"
   ]
  },
  {
   "cell_type": "code",
   "execution_count": 7,
   "id": "432f0195-9a5a-4980-9838-e858af547c5f",
   "metadata": {},
   "outputs": [],
   "source": [
    "from Bio import SeqIO\n",
    "\n",
    "GoI = \"PIGK\"\n",
    "for genome in SeqIO.parse(\"Sus scrofa PIGK.gbk\",\"genbank\"):\n",
    "    for gene in genome.features:\n",
    "        if gene.type != \"CDS\":\n",
    "            continue\n",
    "        if \"gene\" not in gene.qualifiers[\"gene\"][0]:\n",
    "                continue\n",
    "        if GoI not in gene.qualifiers[\"gene\"][0]:\n",
    "                    continue\n",
    "    gene_seq = gene.extract(genome.seq)\n",
    "                    \n",
    "GoI_fasta = \">%s|%s\\n%s\" % (GoI, genome.description, gene_seq)\n",
    "with open(\"GoI_fasta.fasta\",\"w\") as f:\n",
    "    f.write(GoI_fasta)"
   ]
  },
  {
   "cell_type": "code",
   "execution_count": null,
   "id": "453abed7-85df-4e3b-be97-4c1f673053e4",
   "metadata": {},
   "outputs": [],
   "source": []
  }
 ],
 "metadata": {
  "kernelspec": {
   "display_name": "Python 3 (ipykernel)",
   "language": "python",
   "name": "python3"
  },
  "language_info": {
   "codemirror_mode": {
    "name": "ipython",
    "version": 3
   },
   "file_extension": ".py",
   "mimetype": "text/x-python",
   "name": "python",
   "nbconvert_exporter": "python",
   "pygments_lexer": "ipython3",
   "version": "3.9.7"
  }
 },
 "nbformat": 4,
 "nbformat_minor": 5
}
